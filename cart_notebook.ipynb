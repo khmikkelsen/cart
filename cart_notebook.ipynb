{
 "cells": [
  {
   "cell_type": "code",
   "execution_count": null,
   "id": "28943d50",
   "metadata": {},
   "outputs": [],
   "source": [
    "def decode(s):\n",
    "    if s.split\n",
    "    \n",
    "    \n",
    "def to_bin(s):\n",
    "    scale = 16 \n",
    "    num_of_bits = 8\n",
    "    bin(int(my_hexdata, scale))[2:].zfill(num_of_bits)"
   ]
  }
 ],
 "metadata": {
  "kernelspec": {
   "display_name": "Python 3 (ipykernel)",
   "language": "python",
   "name": "python3"
  },
  "language_info": {
   "codemirror_mode": {
    "name": "ipython",
    "version": 3
   },
   "file_extension": ".py",
   "mimetype": "text/x-python",
   "name": "python",
   "nbconvert_exporter": "python",
   "pygments_lexer": "ipython3",
   "version": "3.10.10"
  }
 },
 "nbformat": 4,
 "nbformat_minor": 5
}
